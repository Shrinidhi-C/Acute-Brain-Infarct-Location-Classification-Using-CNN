{
 "cells": [
  {
   "cell_type": "code",
   "execution_count": 53,
   "metadata": {},
   "outputs": [],
   "source": [
    "import cv2\n",
    "import pandas as pd #import to read the csv\n",
    "import os  "
   ]
  },
  {
   "cell_type": "code",
   "execution_count": 54,
   "metadata": {},
   "outputs": [
    {
     "name": "stdout",
     "output_type": "stream",
     "text": [
      "C:\\Users\\Administrator\\Desktop\\CIE\\assignment 2\\Src\n"
     ]
    }
   ],
   "source": [
    "print(os.getcwd()) "
   ]
  },
  {
   "cell_type": "code",
   "execution_count": 55,
   "metadata": {},
   "outputs": [
    {
     "name": "stdout",
     "output_type": "stream",
     "text": [
      "C:\\Users\\Administrator\\Desktop\\CIE\\assignment 2\n",
      "C:\\Users\\Administrator\\Desktop\\CIE\\assignment 2\n",
      "CLEANED_DATA\n"
     ]
    }
   ],
   "source": [
    "#this part of the code is for resizing the images into 600x600\n",
    "from PIL import Image\n",
    "import shutil\n",
    "import cv2\n",
    "from matplotlib import pyplot as plt\n",
    "import glob\n",
    "import pathlib   #used for creating path objects insted of strings\n",
    "os.chdir(\"../\")#we are currently in src directory but the BRAIN_IMAGES is in the assignment 2 directory so we go one step back \n",
    "os.makedirs(\"cropped_DATA\")\n",
    "print(os.getcwd())\n",
    "path=pathlib.Path('.')/\"CLEANED_DATA\" \n",
    "print(os.getcwd())\n",
    "print(path)\n",
    "for folder in path.iterdir(): #this loop iterates through each image folder inside \"BRAIN_IMAGES\"\n",
    "    \n",
    "    if folder.is_dir():\n",
    "        y=folder.name\n",
    "        source=\"CLEANED_DATA/\"+y #source path\n",
    "        os.chdir(r\"cropped_DATA\")\n",
    "        os.makedirs(y)\n",
    "        os.chdir(\"../\")\n",
    "        source=\"CLEANED_DATA/\"+y\n",
    "        dest1=\"cropped_DATA/\"+y \n",
    "        counter=1\n",
    "        for file in folder.iterdir(): #this will iterate  through the images in each file example: case3 has 3 images so it will iterate through these 3 images\n",
    "            if file.is_file(): \n",
    "                #print(file.name)\n",
    "                imgg=path/folder.name\n",
    "                img_path=path/folder.name/file.name\n",
    "                #print(img_path)\n",
    "                im=Image.open(img_path)\n",
    "                #im.show()\n",
    "                im=im.resize((600,600),resample=0)\n",
    "                im.save(img_path)\n",
    "                \n",
    "                #im.show()\n",
    "                counter += 1\n",
    "                #print('size:{}'.format(im.size)) \n",
    "                full_file_name=os.path.join(source,file.name) \n",
    "                shutil.copy(full_file_name,dest1) #copy these images to destination\n",
    "                 \n",
    "               \n",
    "                \n",
    "                "
   ]
  },
  {
   "cell_type": "code",
   "execution_count": 56,
   "metadata": {},
   "outputs": [
    {
     "name": "stdout",
     "output_type": "stream",
     "text": [
      "C:\\Users\\Administrator\\Desktop\\CIE\\assignment 2\n"
     ]
    }
   ],
   "source": [
    " print(os.getcwd())"
   ]
  },
  {
   "cell_type": "code",
   "execution_count": 57,
   "metadata": {},
   "outputs": [
    {
     "name": "stdout",
     "output_type": "stream",
     "text": [
      "C:\\Users\\Administrator\\Desktop\\CIE\\assignment 2\n",
      "C:\\Users\\Administrator\\Desktop\\CIE\\assignment 2\n",
      "cropped_DATA\n"
     ]
    }
   ],
   "source": [
    "#this part of code is to crop the resized images\n",
    "from PIL import Image\n",
    "import shutil\n",
    "import cv2\n",
    "from matplotlib import pyplot as plt\n",
    "import glob\n",
    "import pathlib   #used for creating path objects insted of strings\n",
    " \n",
    " \n",
    "print(os.getcwd())\n",
    "path=pathlib.Path('.')/\"cropped_DATA\" \n",
    "print(os.getcwd())\n",
    "print(path)\n",
    "for folder in path.iterdir(): #this loop iterates through each image folder inside \"BRAIN_IMAGES\"\n",
    "    \n",
    "    if folder.is_dir():\n",
    "        y=folder.name\n",
    "        source=\"cropped_DATA/\"+y #source path\n",
    "     \n",
    "        source=\"cropped_DATA/\"+y\n",
    "         \n",
    "        counter=1\n",
    "        for file in folder.iterdir(): #this will iterate  through the images in each file example: case3 has 3 images so it will iterate through these 3 images\n",
    "            if file.is_file(): \n",
    "                #print(file.name)\n",
    "                imgg=path/folder.name\n",
    "                img_path=path/folder.name/file.name\n",
    "                #print(img_path)\n",
    "                im=Image.open(img_path)\n",
    "                #im.show()\n",
    "                area=(65,65,581,509)\n",
    "                cr=im.crop((area))\n",
    "                #cr.show()\n",
    "                 \n",
    "                cr.save(img_path)\n",
    "                \n",
    "                #im.show()\n",
    "                counter += 1\n",
    "                \n",
    "                 \n",
    "               \n",
    " \n"
   ]
  },
  {
   "cell_type": "code",
   "execution_count": 58,
   "metadata": {},
   "outputs": [
    {
     "name": "stdout",
     "output_type": "stream",
     "text": [
      "C:\\Users\\Administrator\\Desktop\\CIE\\assignment 2\n"
     ]
    }
   ],
   "source": [
    " \n",
    "    \n",
    "print(os.getcwd())"
   ]
  },
  {
   "cell_type": "code",
   "execution_count": 59,
   "metadata": {},
   "outputs": [
    {
     "name": "stdout",
     "output_type": "stream",
     "text": [
      "C:\\Users\\Administrator\\Desktop\\CIE\\assignment 2\n",
      "C:\\Users\\Administrator\\Desktop\\CIE\\assignment 2\n",
      "cropped_DATA\n"
     ]
    }
   ],
   "source": [
    "from PIL import Image\n",
    "import shutil\n",
    "import cv2\n",
    "from matplotlib import pyplot as plt\n",
    "import glob\n",
    "import pathlib   #used for creating path objects insted of strings\n",
    "   \n",
    "os.makedirs(\"DWI_DATA\")\n",
    "print(os.getcwd())\n",
    "path=pathlib.Path('.')/\"cropped_DATA\" \n",
    "print(os.getcwd())\n",
    "print(path)\n",
    "for folder in path.iterdir(): #this loop iterates through each image folder inside \"BRAIN_IMAGES\"\n",
    "    \n",
    "    if folder.is_dir():\n",
    "        y=folder.name\n",
    "        source=\"cropped_DATA/\"+y #source path\n",
    "        os.chdir(r\"DWI_DATA\")\n",
    "        os.makedirs(y)\n",
    "        os.chdir(\"../\")\n",
    "        source=\"cropped_DATA/\"+y\n",
    "        dest1=\"DWI_DATA/\"+y \n",
    "        counter=1\n",
    "        for file in folder.iterdir(): #this will iterate  through the images in each file example: case3 has 3 images so it will iterate through these 3 images\n",
    "            if file.is_file(): \n",
    "                #print(file.name)\n",
    "                imgg=path/folder.name\n",
    "                img_path=path/folder.name/file.name\n",
    "                counter += 1\n",
    "                filename,seperator,extension=file.name.partition('.') \n",
    "                f,s,w=filename.partition(' ') \n",
    "                k,m,n=w.partition('_')\n",
    "                p=\"DWI\"\n",
    "                if n == p:\n",
    "                    full_file_name=os.path.join(source,file.name) \n",
    "                    shutil.copy(full_file_name,dest1) #copy these images to destination\n",
    "                 "
   ]
  }
 ],
 "metadata": {
  "kernelspec": {
   "display_name": "Python (PES_AI_PIP)",
   "language": "python",
   "name": "pes_ai_pip"
  },
  "language_info": {
   "codemirror_mode": {
    "name": "ipython",
    "version": 3
   },
   "file_extension": ".py",
   "mimetype": "text/x-python",
   "name": "python",
   "nbconvert_exporter": "python",
   "pygments_lexer": "ipython3",
   "version": "3.7.6"
  }
 },
 "nbformat": 4,
 "nbformat_minor": 4
}
