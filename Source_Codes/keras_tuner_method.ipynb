{
 "cells": [
  {
   "cell_type": "code",
   "execution_count": 1,
   "metadata": {},
   "outputs": [],
   "source": [
    "import tensorflow as tf\n",
    "import numpy as np\n",
    "from tensorflow import keras\n",
    "import os\n",
    "import pandas as pd\n",
    "from PIL import Image \n",
    "from numpy import *\n"
   ]
  },
  {
   "cell_type": "code",
   "execution_count": 3,
   "metadata": {},
   "outputs": [
    {
     "data": {
      "text/plain": [
       "'C:\\\\Users\\\\Dell\\\\Envs\\\\PES_AI_PIP'"
      ]
     },
     "execution_count": 3,
     "metadata": {},
     "output_type": "execute_result"
    }
   ],
   "source": [
    "os.getcwd()"
   ]
  },
  {
   "cell_type": "code",
   "execution_count": 4,
   "metadata": {},
   "outputs": [
    {
     "data": {
      "text/plain": [
       "'C:\\\\Users\\\\Dell\\\\Envs\\\\PES_AI_PIP\\\\Assignment_2'"
      ]
     },
     "execution_count": 4,
     "metadata": {},
     "output_type": "execute_result"
    }
   ],
   "source": [
    "os.chdir('C:\\\\Users\\\\Dell\\\\Envs\\\\PES_AI_PIP\\\\Assignment_2')\n",
    "os.getcwd()"
   ]
  },
  {
   "cell_type": "code",
   "execution_count": 6,
   "metadata": {},
   "outputs": [],
   "source": [
    "#d is the cleaned data folder \n",
    "path=\"C:\\\\Users\\\\Dell\\\\Envs\\\\PES_AI_PIP\\\\d\""
   ]
  },
  {
   "cell_type": "code",
   "execution_count": 7,
   "metadata": {},
   "outputs": [],
   "source": [
    "listing= os.listdir(path)"
   ]
  },
  {
   "cell_type": "code",
   "execution_count": 10,
   "metadata": {},
   "outputs": [],
   "source": [
    "path3=\"C:\\\\Users\\\\Dell\\\\Envs\\\\PES_AI_PIP\\\\DWI_data\""
   ]
  },
  {
   "cell_type": "code",
   "execution_count": 11,
   "metadata": {},
   "outputs": [],
   "source": [
    "list=[]\n",
    "for file in listing:\n",
    "    path2=( path +'\\\\'+file)\n",
    "    k=os.listdir(path2)\n",
    "    for img in k:\n",
    "        if 'DWI' in img:\n",
    "            list.append(img)\n",
    "            im= Image.open(path2+'\\\\'+img)\n",
    "            #print(size(im))\n",
    "            imr=im.resize((514,444))\n",
    "            #print(size(imr))\n",
    "            gray=imr.convert('L')\n",
    "            gray.save(path3 +'\\\\'+ img ,\"JPEG\")\n",
    "        \n",
    "    "
   ]
  },
  {
   "cell_type": "code",
   "execution_count": 12,
   "metadata": {},
   "outputs": [],
   "source": [
    "#print ((list))"
   ]
  },
  {
   "cell_type": "code",
   "execution_count": 13,
   "metadata": {},
   "outputs": [],
   "source": [
    "lt=os.listdir(path3)"
   ]
  },
  {
   "cell_type": "code",
   "execution_count": 14,
   "metadata": {},
   "outputs": [],
   "source": [
    "imatrix=[]\n",
    "for f in lt:\n",
    "    im4=Image.open(path3+'\\\\'+ f)\n",
    "    k=asarray(im4)\n",
    "    imatrix.append(k)\n",
    "#for k in imatrix:\n",
    " #   print(k)\n",
    "  #  print(k.shape)"
   ]
  },
  {
   "cell_type": "code",
   "execution_count": 15,
   "metadata": {},
   "outputs": [],
   "source": [
    "#imatrix=[]\n",
    "#for im2 in list:\n",
    "#    i= array(array(Image.open(path3 +'\\\\'+im2)),'f')\n",
    "#    print(i)\n",
    "#    imatrix.append(i)\n",
    "#for k in imatrix:\n",
    "    #print(k)\n",
    "    #print(size(k))"
   ]
  },
  {
   "cell_type": "code",
   "execution_count": 16,
   "metadata": {},
   "outputs": [
    {
     "name": "stdout",
     "output_type": "stream",
     "text": [
      "<class 'list'>\n"
     ]
    }
   ],
   "source": [
    "td=imatrix\n",
    "print(type(td))"
   ]
  },
  {
   "cell_type": "code",
   "execution_count": 17,
   "metadata": {},
   "outputs": [],
   "source": [
    "from sklearn.model_selection import train_test_split\n",
    "X, y = td, range(50)\n",
    "(X_train, X_test, y_train, y_test) = train_test_split(X, y, test_size=0.2, random_state=42)\n",
    "\n",
    "#x_train, x_test=train_test_split(td)"
   ]
  },
  {
   "cell_type": "code",
   "execution_count": 18,
   "metadata": {},
   "outputs": [],
   "source": [
    "X_train=np.array(X_train,dtype=object)\n",
    "X_test=np.array(X_test,dtype=object)\n",
    "y_train=np.array(y_train,dtype=object)\n",
    "#data = np.array(data, dtype=np.float32)\n",
    "#X_train=np.float32(X_train)\n"
   ]
  },
  {
   "cell_type": "code",
   "execution_count": 19,
   "metadata": {},
   "outputs": [],
   "source": [
    "X_train/=255.0\n",
    "X_test/=255.0"
   ]
  },
  {
   "cell_type": "code",
   "execution_count": 20,
   "metadata": {},
   "outputs": [
    {
     "data": {
      "text/plain": [
       "(40, 444, 514)"
      ]
     },
     "execution_count": 20,
     "metadata": {},
     "output_type": "execute_result"
    }
   ],
   "source": [
    "X_train.shape\n"
   ]
  },
  {
   "cell_type": "code",
   "execution_count": null,
   "metadata": {},
   "outputs": [],
   "source": [
    "\n"
   ]
  },
  {
   "cell_type": "code",
   "execution_count": 21,
   "metadata": {},
   "outputs": [
    {
     "name": "stdout",
     "output_type": "stream",
     "text": [
      "(40, 444, 514)\n",
      "(40,)\n"
     ]
    }
   ],
   "source": [
    "print((X_train).shape)\n",
    "print((y_train).shape)"
   ]
  },
  {
   "cell_type": "code",
   "execution_count": 22,
   "metadata": {},
   "outputs": [],
   "source": [
    "X_train=X_train.reshape(-1,514,444,1)\n",
    "X_test=X_train.reshape(-1,514,444,1)"
   ]
  },
  {
   "cell_type": "code",
   "execution_count": 23,
   "metadata": {},
   "outputs": [
    {
     "name": "stdout",
     "output_type": "stream",
     "text": [
      "(40, 514, 444, 1)\n",
      "(40,)\n"
     ]
    }
   ],
   "source": [
    "print((X_train).shape)\n",
    "print((y_train).shape)"
   ]
  },
  {
   "cell_type": "code",
   "execution_count": 24,
   "metadata": {},
   "outputs": [],
   "source": [
    "def build_model(hp):\n",
    "    model= keras.Sequential([\n",
    "        keras.layers.Conv2D(\n",
    "            filters=hp.Int('conv_1_filter',min_value=32,max_value=128,step=16),\n",
    "            kernel_size=hp.Choice('conv_1_kernel',values=[3,5]),\n",
    "            activation ='relu',\n",
    "            input_shape=(514,444,1)\n",
    "        ),\n",
    "        keras.layers.Conv2D(\n",
    "            filters=hp.Int('conv_2_filter',min_value=32,max_value=164,step=16),\n",
    "            kernel_size=hp.Choice('conv_2_kernel',values=[3,5]),\n",
    "            activation ='relu',\n",
    "        ),\n",
    "        keras.layers.Flatten(),\n",
    "        keras.layers.Dense(\n",
    "            units=hp.Int('dense_1_units',min_value=32,max_value=128,step=16),\n",
    "            activation='relu'\n",
    "            \n",
    "        ),\n",
    "        keras.layers.Dense(10,activation='softmax')\n",
    "    ])\n",
    "            \n",
    "    model.compile(optimizer=keras.optimizers.Adam(hp.Choice('learning_rate',values=[1e-2,1e-3])),\n",
    "                 loss='sparse_categorical_crossentropy',\n",
    "                 metrics=['accuracy'])\n",
    "    return model\n",
    "        "
   ]
  },
  {
   "cell_type": "code",
   "execution_count": 25,
   "metadata": {},
   "outputs": [],
   "source": [
    "from kerastuner import RandomSearch\n",
    "from kerastuner.engine.hyperparameters import HyperParameters"
   ]
  },
  {
   "cell_type": "code",
   "execution_count": 26,
   "metadata": {},
   "outputs": [
    {
     "name": "stdout",
     "output_type": "stream",
     "text": [
      "INFO:tensorflow:Reloading Oracle from existing project output\\brain_pro\\oracle.json\n",
      "WARNING:tensorflow:From C:\\Users\\Dell\\Envs\\PES_AI_PIP\\lib\\site-packages\\tensorflow_core\\python\\ops\\resource_variable_ops.py:1630: calling BaseResourceVariable.__init__ (from tensorflow.python.ops.resource_variable_ops) with constraint is deprecated and will be removed in a future version.\n",
      "Instructions for updating:\n",
      "If using Keras pass *_constraint arguments to layers.\n"
     ]
    }
   ],
   "source": [
    "tuner_search=RandomSearch(build_model,objective='val_accuracy',max_trials=5,directory='output',project_name=\"brain_pro\")"
   ]
  },
  {
   "cell_type": "code",
   "execution_count": null,
   "metadata": {
    "scrolled": false
   },
   "outputs": [
    {
     "name": "stdout",
     "output_type": "stream",
     "text": [
      "Train on 36 samples, validate on 4 samples\n",
      "Epoch 1/3\n"
     ]
    }
   ],
   "source": [
    "tuner_search.search(X_train,y_train,epochs=3,validation_split=0.1)"
   ]
  },
  {
   "cell_type": "raw",
   "metadata": {},
   "source": []
  },
  {
   "cell_type": "raw",
   "metadata": {},
   "source": []
  }
 ],
 "metadata": {
  "kernelspec": {
   "display_name": "Pyhton (PES_AI_PIP)",
   "language": "python",
   "name": "pes_ai_pip"
  },
  "language_info": {
   "codemirror_mode": {
    "name": "ipython",
    "version": 3
   },
   "file_extension": ".py",
   "mimetype": "text/x-python",
   "name": "python",
   "nbconvert_exporter": "python",
   "pygments_lexer": "ipython3",
   "version": "3.7.6rc1"
  }
 },
 "nbformat": 4,
 "nbformat_minor": 4
}
